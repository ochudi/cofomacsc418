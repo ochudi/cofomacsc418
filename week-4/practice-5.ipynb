{
 "cells": [
  {
   "cell_type": "markdown",
   "id": "cc6d9e0f-c3da-43af-9d5a-c05811ee0e21",
   "metadata": {},
   "source": [
    "#### Practice 5: Canny Operator"
   ]
  },
  {
   "cell_type": "code",
   "execution_count": null,
   "id": "67c04d6c-f7c3-48f1-9cdd-229eff8d70e9",
   "metadata": {},
   "outputs": [],
   "source": [
    "# Canny Edge Detection\n",
    "\n",
    "import cv2\n",
    "\n",
    "# Load the image\n",
    "image = cv2.imread('img/chudi.jpg', cv2.IMREAD_GRAYSCALE)\n",
    "\n",
    "# Resize images\n",
    "image = cv2.resize(image, (400, 400))\n",
    "\n",
    "# Perform Gaussian Blur\n",
    "# image = cv2.GaussianBlur(image, (5, 5), 0)\n",
    "\n",
    "# Apply Canny edge detection\n",
    "edges = cv2.Canny(image, 100, 200)\n",
    "\n",
    "# Display the original image and the Canny edges\n",
    "cv2.imshow(\"Original\", image)\n",
    "cv2.imshow(\"Canny Edges\", edges)\n",
    "\n",
    "# Wait for a key press and close all windows\n",
    "cv2.waitKey(0)\n",
    "cv2.destroyAllWindows()\n",
    "\n"
   ]
  },
  {
   "cell_type": "code",
   "execution_count": null,
   "id": "e713157d-811d-4b67-ad24-5d70cfc4e626",
   "metadata": {},
   "outputs": [],
   "source": []
  }
 ],
 "metadata": {
  "kernelspec": {
   "display_name": "Python 3 (ipykernel)",
   "language": "python",
   "name": "python3"
  },
  "language_info": {
   "codemirror_mode": {
    "name": "ipython",
    "version": 3
   },
   "file_extension": ".py",
   "mimetype": "text/x-python",
   "name": "python",
   "nbconvert_exporter": "python",
   "pygments_lexer": "ipython3",
   "version": "3.11.7"
  }
 },
 "nbformat": 4,
 "nbformat_minor": 5
}
