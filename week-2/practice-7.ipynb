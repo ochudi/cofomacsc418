{
 "cells": [
  {
   "cell_type": "markdown",
   "id": "71bc0806-7e5f-46a3-b287-046c5e5d76c2",
   "metadata": {},
   "source": [
    "#### Practice 6: Inverse Transfor Scaling"
   ]
  },
  {
   "cell_type": "code",
   "execution_count": null,
   "id": "9ef6d4e2-f09d-4cb2-9183-497582e19a51",
   "metadata": {},
   "outputs": [],
   "source": []
  }
 ],
 "metadata": {
  "kernelspec": {
   "display_name": "Python 3 (ipykernel)",
   "language": "python",
   "name": "python3"
  },
  "language_info": {
   "codemirror_mode": {
    "name": "ipython",
    "version": 3
   },
   "file_extension": ".py",
   "mimetype": "text/x-python",
   "name": "python",
   "nbconvert_exporter": "python",
   "pygments_lexer": "ipython3",
   "version": "3.11.7"
  }
 },
 "nbformat": 4,
 "nbformat_minor": 5
}
