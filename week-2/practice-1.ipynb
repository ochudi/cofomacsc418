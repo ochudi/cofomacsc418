{
 "cells": [
  {
   "cell_type": "markdown",
   "id": "6bf4aae4-1dd7-423d-8ef7-b07381ef23c9",
   "metadata": {},
   "source": [
    "#### Practice 1: Visualising Color Spaces"
   ]
  },
  {
   "cell_type": "code",
   "execution_count": 1,
   "id": "867dde7c-1e4d-44a7-8081-159eb8fa6459",
   "metadata": {},
   "outputs": [],
   "source": [
    "import cv2\n",
    "\n",
    "image = cv2.imread('img/color-space.jpg')\n",
    "\n",
    "# The split method separates color spaces\n",
    "B, G, R = cv2.split(image)\n",
    "\n",
    "# Corresponding channels are separated\n",
    "cv2.imshow('original', image)\n",
    "cv2.waitKey(0)\n",
    "\n",
    "cv2.imshow('blue', B)\n",
    "cv2.waitKey(0)\n",
    "\n",
    "cv2.imshow('green', G)\n",
    "cv2.waitKey(0)\n",
    "\n",
    "cv2.imshow('red', R)\n",
    "cv2.waitKey(0)\n",
    "\n",
    "cv2.destroyAllWindows()"
   ]
  },
  {
   "cell_type": "code",
   "execution_count": null,
   "id": "5a93b8e4-bc46-4136-bf37-7d7561cc550d",
   "metadata": {},
   "outputs": [],
   "source": []
  }
 ],
 "metadata": {
  "kernelspec": {
   "display_name": "Python 3 (ipykernel)",
   "language": "python",
   "name": "python3"
  },
  "language_info": {
   "codemirror_mode": {
    "name": "ipython",
    "version": 3
   },
   "file_extension": ".py",
   "mimetype": "text/x-python",
   "name": "python",
   "nbconvert_exporter": "python",
   "pygments_lexer": "ipython3",
   "version": "3.11.7"
  }
 },
 "nbformat": 4,
 "nbformat_minor": 5
}
