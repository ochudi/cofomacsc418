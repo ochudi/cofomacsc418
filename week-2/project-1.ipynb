{
 "cells": [
  {
   "cell_type": "markdown",
   "id": "b8e98f7e-da7c-4283-a9a1-120837933134",
   "metadata": {},
   "source": [
    "#### Project 1: Image Enhancement Project"
   ]
  },
  {
   "cell_type": "code",
   "execution_count": 12,
   "id": "dab3ddda-9301-4abe-9069-9630c1d876df",
   "metadata": {},
   "outputs": [],
   "source": [
    "# Import libraries.\n",
    "import cv2\n",
    "import os\n",
    "\n",
    "# Function for user sign up.\n",
    "def sign_up():\n",
    "    # Collect user's username and matric number.\n",
    "    username = input(\"Enter your username: \")\n",
    "    matno = input(\"Enter your matric number: \")\n",
    "\n",
    "    # Save user's credentials to a file.\n",
    "    with open(\"database/credentials/user_credentials.txt\", \"a\") as file:\n",
    "        file.write(f\"{username},{matno}\\n\")\n",
    "\n",
    "    print(\"Sign up successful!\")\n",
    "\n",
    "\n",
    "# Function for user login\n",
    "def login():\n",
    "    # Load existing user credentials from file.\n",
    "    user_credentials = {}\n",
    "    with open(\"database/credentials/user_credentials.txt\", \"r\") as file:\n",
    "        for line in file:\n",
    "            username, matno = line.strip().split(\",\")\n",
    "            user_credentials[username] = matno\n",
    "\n",
    "    # Request username and matric number from the user.\n",
    "    username = input(\"Enter your username: \")\n",
    "    matno = input(\"Enter your matric number: \")\n",
    "\n",
    "    # Check if username and matric number match.\n",
    "    if username in user_credentials and user_credentials[username] == matno:\n",
    "        print(\"Login successful!\")\n",
    "        return True\n",
    "    else:\n",
    "        print(\"Invalid username or matric number.\")\n",
    "        return False\n",
    "\n"
   ]
  },
  {
   "cell_type": "code",
   "execution_count": 13,
   "id": "95dd67e8-5134-42db-a86c-540f986f5170",
   "metadata": {},
   "outputs": [],
   "source": [
    "# Function for Enhancement selection.\n",
    "def enhance_image(image):\n",
    "    pass\n",
    "\n",
    "# Function for visualisation of colors\n",
    "def visualise(image):\n",
    "    pass\n",
    "\n",
    "# Function for arithmetic operations\n",
    "def arithmetic(image):\n",
    "    pass\n",
    "\n",
    "# Function for adjusting contrast and brightness\n",
    "def contrast(image):\n",
    "    pass\n",
    "\n",
    "# Function for image sharpening.\n",
    "def sharpen(image):\n",
    "    pass\n",
    "\n",
    "# Function for removing noise.\n",
    "def blur(image):\n",
    "    pass\n",
    "\n",
    "# Function for image scaling.\n",
    "def scale(image):\n",
    "    pass\n",
    "\n",
    "# Function for inverse transformation.\n",
    "def inverse(image):\n",
    "    pass"
   ]
  },
  {
   "cell_type": "code",
   "execution_count": 14,
   "id": "4b96809d-9400-47a6-933e-725d09ee26d2",
   "metadata": {},
   "outputs": [
    {
     "name": "stdout",
     "output_type": "stream",
     "text": [
      "Welcome to the Image Enhancement Application!\n",
      "\n",
      "Please make a choice by entering the corresponding number:\n",
      "1 --- 'Sign up'\n",
      "2 --- 'Sign in'\n",
      "3 --- 'Quit'\n",
      "\n",
      "\n",
      "\n"
     ]
    },
    {
     "name": "stdin",
     "output_type": "stream",
     "text": [
      "Choice:  1\n",
      "Enter your username:  fadekemi\n",
      "Enter your matric number:  20120612045\n"
     ]
    },
    {
     "name": "stdout",
     "output_type": "stream",
     "text": [
      "Sign up successful!\n",
      "\n",
      "Please make a choice by entering the corresponding number:\n",
      "1 --- 'Sign up'\n",
      "2 --- 'Sign in'\n",
      "3 --- 'Quit'\n",
      "\n",
      "\n",
      "\n"
     ]
    },
    {
     "name": "stdin",
     "output_type": "stream",
     "text": [
      "Choice:  2\n",
      "Enter your username:  chukwudi\n",
      "Enter your matric number:  20120612023\n"
     ]
    },
    {
     "name": "stdout",
     "output_type": "stream",
     "text": [
      "Login successful!\n",
      "\n",
      "What would you like to do on your image?\n",
      "1 --- 'Visualise colors'\n",
      "2 --- 'Arithmetic operations'\n",
      "3 --- 'Adjust contrast & brightness'\n",
      "\n",
      "4 --- 'Sharpen image'\n",
      "5 --- 'Remove noise'\n",
      "6 --- 'Scale image'\n",
      "\n",
      "7 --- 'Inverse transformation'\n",
      "8 --- 'View image'\n",
      "9 --- 'Log out'\n",
      "\n",
      "\n",
      "\n"
     ]
    },
    {
     "name": "stdin",
     "output_type": "stream",
     "text": [
      "Choice:  9\n"
     ]
    },
    {
     "name": "stdout",
     "output_type": "stream",
     "text": [
      "\n",
      "Logging you out...\n",
      "\n",
      "\n",
      "\n",
      "\n",
      "Please make a choice by entering the corresponding number:\n",
      "1 --- 'Sign up'\n",
      "2 --- 'Sign in'\n",
      "3 --- 'Quit'\n",
      "\n",
      "\n",
      "\n"
     ]
    },
    {
     "name": "stdin",
     "output_type": "stream",
     "text": [
      "Choice:  3\n"
     ]
    },
    {
     "name": "stdout",
     "output_type": "stream",
     "text": [
      "Exiting the Image Enhancement Application...\n"
     ]
    }
   ],
   "source": [
    "# Main function to execute the application\n",
    "def main():\n",
    "    print(\"Welcome to the Image Enhancement Application!\")\n",
    "    username = 'unknown'\n",
    "    while True:\n",
    "        # Ask the user to sign up, log in, or quit\n",
    "        print(\"\\nPlease make a choice by entering the corresponding number:\")\n",
    "        \n",
    "        print(\"\\nPlease make a choice by entering the corresponding number:\")\n",
    "        print(\"1 --- 'Sign up'\\n2 --- 'Sign in'\\n3 --- 'Quit'\\n\\n\\n\")\n",
    "        choice = input(\"Choice: \").lower()\n",
    "\n",
    "        if choice == \"1\":\n",
    "            sign_up()\n",
    "        elif choice == \"2\":\n",
    "            if login():\n",
    "                while True:\n",
    "                    # Continuously prompt the user to choose an enhancement technique or quit\n",
    "                    print(\"\\nWhat would you like to do on your image?\")\n",
    "                    print(\"1 --- 'Visualise colors'\\n2 --- 'Arithmetic operations'\\n3 --- 'Adjust contrast & brightness'\\n\")\n",
    "                    print(\"4 --- 'Sharpen image'\\n5 --- 'Remove noise'\\n6 --- 'Scale image'\\n\")\n",
    "                    print(\"7 --- 'Inverse transformation'\\n8 --- 'View image'\\n9 --- 'Log out'\\n\\n\\n\")\n",
    "                    enhancement_choice = input(\"Choice: \")\n",
    "                    if enhancement_choice == \"9\":\n",
    "                        print('\\nLogging you out...\\n\\n\\n')\n",
    "                        break\n",
    "                    else:\n",
    "                        # Perform selected enhancement on the user's image\n",
    "                        image_path = f\"images/{username}.jpg\"\n",
    "                        if os.path.exists(image_path):\n",
    "                            img = cv2.imread(image_path)\n",
    "                            enhance_image(img, enhancement_choice)\n",
    "                        else:\n",
    "                            print(\"Image not found.\")\n",
    "        elif choice == \"3\":\n",
    "            print(\"Exiting the Image Enhancement Application...\")\n",
    "            break\n",
    "        else:\n",
    "            print(\"Invalid choice. Please try again.\")\n",
    "\n",
    "\n",
    "# Execute the main function\n",
    "if __name__ == \"__main__\":\n",
    "    main()"
   ]
  },
  {
   "cell_type": "code",
   "execution_count": null,
   "id": "55979614-cf88-4364-824a-18bdc22580ae",
   "metadata": {},
   "outputs": [],
   "source": []
  }
 ],
 "metadata": {
  "kernelspec": {
   "display_name": "Python 3 (ipykernel)",
   "language": "python",
   "name": "python3"
  },
  "language_info": {
   "codemirror_mode": {
    "name": "ipython",
    "version": 3
   },
   "file_extension": ".py",
   "mimetype": "text/x-python",
   "name": "python",
   "nbconvert_exporter": "python",
   "pygments_lexer": "ipython3",
   "version": "3.11.7"
  }
 },
 "nbformat": 4,
 "nbformat_minor": 5
}
