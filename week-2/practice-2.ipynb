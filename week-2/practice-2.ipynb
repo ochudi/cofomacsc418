{
 "cells": [
  {
   "cell_type": "markdown",
   "id": "7a630195-19dc-486c-aff6-5eeff84b7ef8",
   "metadata": {},
   "source": [
    "#### Practice 2: Arithmetic Operations on Images"
   ]
  },
  {
   "cell_type": "code",
   "execution_count": null,
   "id": "b2e5e4a4-8a20-472f-a37a-8660006623b0",
   "metadata": {},
   "outputs": [],
   "source": [
    "# Program to illustrate arithmetic operation of addition.\n",
    "\n",
    "# Import library.\n",
    "import cv2\n",
    "\n",
    "# Path to input images.\n",
    "image1 = cv2.imread('img/sst.jpg')\n",
    "image2 = cv2.imread('img/sst-foyer.jpg')\n",
    "\n",
    "# Resize images\n",
    "image1 = cv2.resize(image1, (500, 400))\n",
    "image2 = cv2.resize(image2, (500, 400))\n",
    "\n",
    "# cv2.addWeighted with applied parameters.\n",
    "addImages = cv2.addWeighted(image1, 0.5, image2, 0.6, 0)\n",
    "\n",
    "# Uncomment to subtract images.\n",
    "# subImages = cv2.subtract(image1, image2)\n",
    "\n",
    "# Window showing output image.\n",
    "cv2.imshow('Weighted Image:', addImages)\n",
    "\n",
    "# De-allocate any associated memory usage.\n",
    "if cv2.waitKey(0) & 0xff == 27:\n",
    "    cv2.destroyAllWindows()\n"
   ]
  }
 ],
 "metadata": {
  "kernelspec": {
   "display_name": "Python 3 (ipykernel)",
   "language": "python",
   "name": "python3"
  },
  "language_info": {
   "codemirror_mode": {
    "name": "ipython",
    "version": 3
   },
   "file_extension": ".py",
   "mimetype": "text/x-python",
   "name": "python",
   "nbconvert_exporter": "python",
   "pygments_lexer": "ipython3",
   "version": "3.11.7"
  }
 },
 "nbformat": 4,
 "nbformat_minor": 5
}
