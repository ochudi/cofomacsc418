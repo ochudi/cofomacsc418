{
 "cells": [
  {
   "cell_type": "markdown",
   "id": "10f1b78a-74a6-4335-94ec-42807379efc9",
   "metadata": {},
   "source": [
    "#### Practice 1: Displaying Image"
   ]
  },
  {
   "cell_type": "code",
   "execution_count": 2,
   "id": "8dc1f3bb-d475-44c6-8f22-e3858dc6dfb8",
   "metadata": {},
   "outputs": [],
   "source": [
    "# Import the OpenCV Library\n",
    "import cv2\n",
    "\n",
    "# Save path to image in a variable\n",
    "path = 'img/lagos.jpg'\n",
    "\n",
    "# Read the image using imread() function\n",
    "img = cv2.imread(path)\n",
    "\n",
    "# Name the window in which the image would be displayed\n",
    "window_name = 'Lagos State'\n",
    "\n",
    "# Display the image\n",
    "cv2.imshow(window_name, img)\n",
    "\n",
    "# Hold the window\n",
    "cv2.waitKey(0)\n",
    "\n",
    "# Remove created GUI window from screen and memory\n",
    "cv2.destroyAllWindows()"
   ]
  },
  {
   "cell_type": "code",
   "execution_count": null,
   "id": "2d3596bc-8ca5-4f69-8027-97fbe3ce7aa6",
   "metadata": {},
   "outputs": [],
   "source": []
  }
 ],
 "metadata": {
  "kernelspec": {
   "display_name": "Python 3 (ipykernel)",
   "language": "python",
   "name": "python3"
  },
  "language_info": {
   "codemirror_mode": {
    "name": "ipython",
    "version": 3
   },
   "file_extension": ".py",
   "mimetype": "text/x-python",
   "name": "python",
   "nbconvert_exporter": "python",
   "pygments_lexer": "ipython3",
   "version": "3.11.7"
  }
 },
 "nbformat": 4,
 "nbformat_minor": 5
}
