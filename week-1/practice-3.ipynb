{
 "cells": [
  {
   "cell_type": "markdown",
   "id": "0ba926a0-5f48-464e-ab3c-a154bfe6a91e",
   "metadata": {},
   "source": [
    "#### Practice 3 - Saving an image"
   ]
  },
  {
   "cell_type": "code",
   "execution_count": 1,
   "id": "5b291b47-18f1-4c82-a1da-64def61aaead",
   "metadata": {},
   "outputs": [
    {
     "name": "stdout",
     "output_type": "stream",
     "text": [
      "Before saving image:\n",
      "['lagos.jpg', 'chudi.png']\n",
      "After saving image:\n",
      "['grayscale.png', 'lagos.jpg', 'chudi.png']\n",
      "File saved successfully.\n"
     ]
    }
   ],
   "source": [
    "# Import library\n",
    "import cv2\n",
    "\n",
    "# Import os module\n",
    "import os\n",
    "\n",
    "# Specify image path\n",
    "image_path = r'/Users/chudi/Documents/study/school/final/csc418/github-repo/cofomacsc418/week-1/img/chudi.png'\n",
    "\n",
    "# Specify directory\n",
    "folder_path = r'/Users/chudi/Documents/study/school/final/csc418/github-repo/cofomacsc418/week-1/img'\n",
    "\n",
    "# Use imread() method to read the image\n",
    "img = cv2.imread(image_path, 0)\n",
    "\n",
    "# Change the current directory to specified directory\n",
    "os.chdir(folder_path)\n",
    "\n",
    "# List files and directories\n",
    "print('Before saving image:')\n",
    "print(os.listdir(folder_path))\n",
    "\n",
    "# Give the image a name\n",
    "file_name = 'grayscale.png'\n",
    "\n",
    "# Use imwrite() method to save the image\n",
    "cv2.imwrite(file_name, img)\n",
    "\n",
    "# List files and directories again\n",
    "print('After saving image:')\n",
    "print(os.listdir(folder_path))\n",
    "\n",
    "print('File saved successfully.')\n"
   ]
  },
  {
   "cell_type": "code",
   "execution_count": null,
   "id": "3d1afa77-2db7-4fbc-b5ed-c3beba80b67c",
   "metadata": {},
   "outputs": [],
   "source": []
  }
 ],
 "metadata": {
  "kernelspec": {
   "display_name": "Python 3 (ipykernel)",
   "language": "python",
   "name": "python3"
  },
  "language_info": {
   "codemirror_mode": {
    "name": "ipython",
    "version": 3
   },
   "file_extension": ".py",
   "mimetype": "text/x-python",
   "name": "python",
   "nbconvert_exporter": "python",
   "pygments_lexer": "ipython3",
   "version": "3.11.7"
  }
 },
 "nbformat": 4,
 "nbformat_minor": 5
}
