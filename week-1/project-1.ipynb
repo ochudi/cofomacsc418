{
 "cells": [
  {
   "cell_type": "markdown",
   "id": "9c88fcb4-b5c6-4262-a350-7440550c3812",
   "metadata": {},
   "source": [
    "#### Project 1: PAU-UMC Application"
   ]
  },
  {
   "cell_type": "code",
   "execution_count": null,
   "id": "22616368-3880-4bc2-a7f9-ac2ef5981947",
   "metadata": {},
   "outputs": [
    {
     "name": "stdout",
     "output_type": "stream",
     "text": [
      "Welcome to the PAU-UMC Facial Recognition Login System.\n"
     ]
    },
    {
     "name": "stdin",
     "output_type": "stream",
     "text": [
      "\n",
      "Enter your username (your first name e.g. \"Chukwudi\") or \"quit\" to exit:  Chukwudi\n",
      "Enter your password (the sum of alphabets in your surname e.g. \"5\"):  ········\n"
     ]
    },
    {
     "name": "stdout",
     "output_type": "stream",
     "text": [
      "Invalid username or password. Please try again.\n"
     ]
    },
    {
     "name": "stdin",
     "output_type": "stream",
     "text": [
      "\n",
      "Enter your username (your first name e.g. \"Chukwudi\") or \"quit\" to exit:  Darlington\n",
      "Enter your password (the sum of alphabets in your surname e.g. \"5\"):  ········\n"
     ]
    },
    {
     "name": "stdout",
     "output_type": "stream",
     "text": [
      "\n",
      "Login successful!\n",
      "Welcome back, DARLINGTON!\n",
      "\n",
      "\n",
      "Your Profile Details:\n",
      "Dr. Agholor is a distinguished academic and leader in the field of management and technology. Joining Pan-Atlantic University in 2016 as a faculty member of the School of Management and Social Sciences (SMSS), he initially taught Leadership and Elements of Management. In October 2020, he assumed the role of the inaugural Dean of the School of Science and Technology.\n",
      "\n",
      "Before joining Pan-Atlantic University, Dr. Agholor co-created and served as the Director of the Institute for Industrial Technology (IIT), a renowned social enterprise focused on developing middle-level technical manpower for the industrial sector. He continues to contribute to IIT's success as a member of its governing council, bringing over 15 years of management experience in the non-profit sector.\n",
      "\n",
      "Dr. Agholor's educational background is extensive, with a degree in Mechanical Engineering and an MSc in Industrial Engineering, both from the University of Ibadan. He furthered his academic pursuits by obtaining a Doctorate in Industrial Management from the University of Navarre, Spain.\n",
      "\n",
      "Currently, Dr. Agholor's research interests center around mentoring and competency development, reflecting his commitment to enhancing human capital and fostering talent in the fields of management and technology. Through his leadership, academic contributions, and research endeavors, Dr. Agholor continues to make significant strides in advancing education and innovation in Nigeria's academic landscape.\n",
      "\n",
      "\n",
      "Logging you out...\n"
     ]
    }
   ],
   "source": [
    "import cv2\n",
    "import os\n",
    "import getpass  # Import module for password input.\n",
    "\n",
    "# Function to perform facial recognition login.\n",
    "def facial_recognition_login():\n",
    "    # Dictionary containing username and corresponding password.\n",
    "    user_credentials = {\n",
    "        'enase': len('Okonedo'),\n",
    "        'kingsley': len('Ukaoha'),\n",
    "        'chris': len('Ogbechie'),\n",
    "        'donatus': len('Ogbuike'),\n",
    "        'ikechukwu': len('Obiaya'),\n",
    "        'sola': len('Oni'),\n",
    "        'darlington': len('Agholor'),\n",
    "        'nneka': len('Okekearu'),\n",
    "        'adaora': len('Onaga'),\n",
    "        'peter': len('Bamkole')\n",
    "    }\n",
    "\n",
    "    while True:\n",
    "        # Request username and password from the user.\n",
    "        username = input('\\nEnter your username (your first name e.g. \"Chukwudi\") or \"quit\" to exit: ')\n",
    "        username = username.lower()\n",
    "\n",
    "        if username == 'quit':\n",
    "            print('Exiting the PAU-UMC Facial Recognition Login System.')\n",
    "            break\n",
    "\n",
    "        # Use getpass to hide password input.\n",
    "        password = getpass.getpass('Enter your password (the sum of alphabets in your surname e.g. \"5\"): ')\n",
    "\n",
    "        # Check if username exists and password is correct.\n",
    "        if username in user_credentials and int(password) == user_credentials[username]:\n",
    "            print('\\nLogin successful!')\n",
    "            print(f'Welcome back, {username.upper()}!')\n",
    "\n",
    "            # Read the user profile details.\n",
    "            profile_path = f'/Users/chudi/Documents/study/school/final/csc418/github-repo/cofomacsc418/week-1/database/profiles/{username}.txt'\n",
    "            if os.path.exists(profile_path):\n",
    "                with open(profile_path, \"r\") as file:\n",
    "                    profile_detail = file.read()\n",
    "                    print(\"\\n\\nYour Profile Details:\")\n",
    "                    print(profile_detail)\n",
    "                    print('\\n\\nLogging you out...')\n",
    "            else:\n",
    "                print('Profile details not found.')\n",
    "            \n",
    "            # Read the corresponding profile image.\n",
    "            image_path = f'/Users/chudi/Documents/study/school/final/csc418/github-repo/cofomacsc418/week-1/database/images/{username}.jpg'\n",
    "            if os.path.exists(image_path):\n",
    "                img = cv2.imread(image_path)\n",
    "                cv2.imshow('Profile Image', img)\n",
    "                cv2.waitKey(0)\n",
    "                cv2.destroyAllWindows()\n",
    "            else:\n",
    "                print('Image not found.')\n",
    "            \n",
    "        else:\n",
    "            print('Invalid username or password. Please try again.')\n",
    "\n",
    "\n",
    "# Main function to execute the application.\n",
    "def main():\n",
    "    print('Welcome to the PAU-UMC Facial Recognition Login System.')\n",
    "    facial_recognition_login()\n",
    "\n",
    "\n",
    "# Execute the main function.\n",
    "if __name__ == '__main__':\n",
    "    main()"
   ]
  },
  {
   "cell_type": "code",
   "execution_count": null,
   "id": "9566955e-ed99-4ec8-98c5-cc7f89b465c2",
   "metadata": {},
   "outputs": [],
   "source": []
  }
 ],
 "metadata": {
  "kernelspec": {
   "display_name": "Python 3 (ipykernel)",
   "language": "python",
   "name": "python3"
  },
  "language_info": {
   "codemirror_mode": {
    "name": "ipython",
    "version": 3
   },
   "file_extension": ".py",
   "mimetype": "text/x-python",
   "name": "python",
   "nbconvert_exporter": "python",
   "pygments_lexer": "ipython3",
   "version": "3.11.7"
  }
 },
 "nbformat": 4,
 "nbformat_minor": 5
}
