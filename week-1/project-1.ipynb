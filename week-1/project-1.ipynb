{
 "cells": [
  {
   "cell_type": "markdown",
   "id": "9c88fcb4-b5c6-4262-a350-7440550c3812",
   "metadata": {},
   "source": [
    "#### Project 1: PAU-UMC Application"
   ]
  },
  {
   "cell_type": "code",
   "execution_count": null,
   "id": "22616368-3880-4bc2-a7f9-ac2ef5981947",
   "metadata": {},
   "outputs": [
    {
     "name": "stdout",
     "output_type": "stream",
     "text": [
      "Welcome to the PAU-UMC Facial Recognition Login System.\n"
     ]
    },
    {
     "name": "stdin",
     "output_type": "stream",
     "text": [
      "Enter your username (your first name e.g. \"Chukwudi\"):  Enase\n",
      "Enter your password (the sum of alphabets in your surname e.g. \"5\"):  7\n"
     ]
    },
    {
     "name": "stdout",
     "output_type": "stream",
     "text": [
      "Login successful!\n"
     ]
    }
   ],
   "source": [
    "import cv2\n",
    "import os\n",
    "\n",
    "# Function to perform facial recognition login\n",
    "def facial_recognition_login():\n",
    "    # Dictionary containing username and corresponding password.\n",
    "    user_credentials = {\n",
    "        'enase': len('Okonedo'),\n",
    "        'kingsley': len('Ukaoha'),\n",
    "        'chris': len('Ogbechie'),\n",
    "        'donatus': len('Ogbuike'),\n",
    "        'ikechukwu': len('Obiaya'),\n",
    "        'sola': len('Oni'),\n",
    "        'darlington': len('Agholor'),\n",
    "        'nneka': len('Okekearu'),\n",
    "        'adaora': len('Onaga'),\n",
    "        'peter': len('Bamkole')\n",
    "    }\n",
    "\n",
    "    # Request username and password from the user\n",
    "    username = input('Enter your username (your first name e.g. \"Chukwudi\"): ')\n",
    "    username = username.lower()\n",
    "    password = input('Enter your password (the sum of alphabets in your surname e.g. \"5\"): ')\n",
    "    password = int(password)\n",
    "\n",
    "    # Check if username exists and password is correct\n",
    "    if username in user_credentials and password == user_credentials[username]:\n",
    "        print('Login successful!')\n",
    "        # Read the corresponding profile image\n",
    "        profile_image_path = f'/Users/chudi/Documents/study/school/final/csc418/github-repo/cofomacsc418/week-1/database/{username}.jpg'\n",
    "        if os.path.exists(profile_image_path):\n",
    "            img = cv2.imread(profile_image_path)\n",
    "            cv2.imshow('Profile Image', img)\n",
    "            cv2.waitKey(0)\n",
    "            cv2.destroyAllWindows()\n",
    "        else:\n",
    "            print('Profile image not found.')\n",
    "    else:\n",
    "        print('Invalid username or password. Please try again.')\n",
    "\n",
    "\n",
    "# Main function to execute the application\n",
    "def main():\n",
    "    print('Welcome to the PAU-UMC Facial Recognition Login System.')\n",
    "    facial_recognition_login()\n",
    "\n",
    "\n",
    "# Execute the main function\n",
    "if __name__ == '__main__':\n",
    "    main()\n"
   ]
  },
  {
   "cell_type": "code",
   "execution_count": null,
   "id": "9566955e-ed99-4ec8-98c5-cc7f89b465c2",
   "metadata": {},
   "outputs": [],
   "source": []
  }
 ],
 "metadata": {
  "kernelspec": {
   "display_name": "Python 3 (ipykernel)",
   "language": "python",
   "name": "python3"
  },
  "language_info": {
   "codemirror_mode": {
    "name": "ipython",
    "version": 3
   },
   "file_extension": ".py",
   "mimetype": "text/x-python",
   "name": "python",
   "nbconvert_exporter": "python",
   "pygments_lexer": "ipython3",
   "version": "3.11.7"
  }
 },
 "nbformat": 4,
 "nbformat_minor": 5
}
