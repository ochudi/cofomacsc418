{
 "cells": [
  {
   "cell_type": "markdown",
   "id": "32d8aa82-cca0-440d-938e-51ec7b6abc57",
   "metadata": {},
   "source": [
    "#### Practice 2: Reading image in grayscale mode"
   ]
  },
  {
   "cell_type": "code",
   "execution_count": 1,
   "id": "0637dfcb-599e-4126-87f5-a059ddcff116",
   "metadata": {},
   "outputs": [],
   "source": [
    "# Import OpenCV Library\n",
    "import cv2\n",
    "\n",
    "# Include path to image\n",
    "path = 'img/chudi.png'\n",
    "\n",
    "# Read the image in grayscale mode\n",
    "img = cv2.imread(path, 0)\n",
    "\n",
    "# Name the window in which the image would be displayed\n",
    "window_name = 'Chukwudi Ofoma'\n",
    "\n",
    "# Display the image\n",
    "cv2.imshow(window_name, img)\n",
    "\n",
    "# Hold the window\n",
    "cv2.waitKey(0)\n",
    "\n",
    "# Remove created GUI window from screen and memory\n",
    "cv2.destroyAllWindows()\n"
   ]
  },
  {
   "cell_type": "code",
   "execution_count": null,
   "id": "cd7e0caf-8ea2-4c74-9659-129554470bc4",
   "metadata": {},
   "outputs": [],
   "source": []
  }
 ],
 "metadata": {
  "kernelspec": {
   "display_name": "Python 3 (ipykernel)",
   "language": "python",
   "name": "python3"
  },
  "language_info": {
   "codemirror_mode": {
    "name": "ipython",
    "version": 3
   },
   "file_extension": ".py",
   "mimetype": "text/x-python",
   "name": "python",
   "nbconvert_exporter": "python",
   "pygments_lexer": "ipython3",
   "version": "3.11.7"
  }
 },
 "nbformat": 4,
 "nbformat_minor": 5
}
