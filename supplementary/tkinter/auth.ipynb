{
 "cells": [
  {
   "cell_type": "markdown",
   "id": "43678bd3-87de-4473-89f1-d43e0b6d3cd6",
   "metadata": {},
   "source": [
    "#### Authentication Page"
   ]
  },
  {
   "cell_type": "code",
   "execution_count": 1,
   "id": "2c6a4195-1d4d-4706-ba56-3f1746d7cf22",
   "metadata": {},
   "outputs": [],
   "source": [
    "from tkinter import *\n",
    "from tkinter import messagebox\n",
    "\n",
    "\n",
    "root = Tk()\n",
    "root.title(\"Login\")\n",
    "root.geometry(\"925x500+300+200\")\n",
    "root.configure(bg = \"#fff\")\n",
    "root.resizable(False, False)\n",
    "\n",
    "img = PhotoImage\n",
    "\n",
    "\n",
    "\n",
    "\n",
    "root.mainloop()\n",
    "\n"
   ]
  },
  {
   "cell_type": "code",
   "execution_count": null,
   "id": "df1e4d91-f53b-4d43-a9b2-a478e644c11f",
   "metadata": {},
   "outputs": [],
   "source": []
  }
 ],
 "metadata": {
  "kernelspec": {
   "display_name": "Python 3 (ipykernel)",
   "language": "python",
   "name": "python3"
  },
  "language_info": {
   "codemirror_mode": {
    "name": "ipython",
    "version": 3
   },
   "file_extension": ".py",
   "mimetype": "text/x-python",
   "name": "python",
   "nbconvert_exporter": "python",
   "pygments_lexer": "ipython3",
   "version": "3.11.7"
  }
 },
 "nbformat": 4,
 "nbformat_minor": 5
}
