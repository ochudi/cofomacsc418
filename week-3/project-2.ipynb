{
 "cells": [
  {
   "cell_type": "code",
   "execution_count": 1,
   "id": "4d0adc86-cdd1-4b8b-b95b-eb3cdc9cc634",
   "metadata": {},
   "outputs": [],
   "source": [
    "import tkinter as tk\n",
    "from PIL import Image, ImageTk\n",
    "\n",
    "# Create a Tkinter window.\n",
    "root = tk.Tk()\n",
    "root.title(\"Image Display Example\")\n",
    "\n",
    "# Load the image.\n",
    "image_path = \"img/sst.jpg\"\n",
    "image = Image.open(image_path)\n",
    "image.thumbnail((400, 400))\n",
    "\n",
    "# Convert the image to a Tkinter compatible format\n",
    "tk_image = ImageTk.PhotoImage(image)\n",
    "\n",
    "# Create a label to display the image.\n",
    "label = tk.Label(root, image=tk_image)\n",
    "label.pack(padx=10, pady=10)\n",
    "\n",
    "# Run the Tkinter event loop.\n",
    "root.mainloop()\n",
    "\n"
   ]
  },
  {
   "cell_type": "code",
   "execution_count": null,
   "id": "3e9e8416-f64b-4eb0-a676-ee9b727a50f1",
   "metadata": {},
   "outputs": [],
   "source": []
  }
 ],
 "metadata": {
  "kernelspec": {
   "display_name": "Python 3 (ipykernel)",
   "language": "python",
   "name": "python3"
  },
  "language_info": {
   "codemirror_mode": {
    "name": "ipython",
    "version": 3
   },
   "file_extension": ".py",
   "mimetype": "text/x-python",
   "name": "python",
   "nbconvert_exporter": "python",
   "pygments_lexer": "ipython3",
   "version": "3.11.7"
  }
 },
 "nbformat": 4,
 "nbformat_minor": 5
}
