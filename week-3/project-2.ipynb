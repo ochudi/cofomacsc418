{
 "cells": [
  {
   "cell_type": "code",
   "execution_count": null,
   "id": "4d0adc86-cdd1-4b8b-b95b-eb3cdc9cc634",
   "metadata": {},
   "outputs": [],
   "source": [
    "import tkinter as tk\n",
    "from tkinter import messagebox\n",
    "\n",
    "# Function to handle login button click\n",
    "def login():\n",
    "    username = username_entry.get()\n",
    "    matric_number = matric_entry.get()\n",
    "\n",
    "    # Check if username and matric number are provided\n",
    "    if username and matric_number:\n",
    "        # For now, I'll just show a message indicating successful login\n",
    "        messagebox.showinfo(\"Login Successful\", \"Welcome, \" + username + \"!\")\n",
    "    else:\n",
    "        messagebox.showerror(\"Login Error\", \"Please enter username and matric number.\")\n",
    "\n",
    "# Function to handle sign up button click\n",
    "def sign_up():\n",
    "    messagebox.showinfo(\"Sign Up\", \"Sign up feature not implemented yet.\")\n",
    "\n",
    "# Create main window\n",
    "root = tk.Tk()\n",
    "root.title(\"Login\")\n",
    "\n",
    "# Username label and entry field\n",
    "username_label = tk.Label(root, text=\"Username:\")\n",
    "username_label.grid(row=0, column=0, padx=10, pady=5)\n",
    "username_entry = tk.Entry(root)\n",
    "username_entry.grid(row=0, column=1, padx=10, pady=5)\n",
    "\n",
    "# Matric number label and entry field\n",
    "matric_label = tk.Label(root, text=\"Matric Number:\")\n",
    "matric_label.grid(row=1, column=0, padx=10, pady=5)\n",
    "matric_entry = tk.Entry(root)\n",
    "matric_entry.grid(row=1, column=1, padx=10, pady=5)\n",
    "\n",
    "# Login button\n",
    "login_button = tk.Button(root, text=\"Login\", command=login)\n",
    "login_button.grid(row=2, column=0, columnspan=2, padx=10, pady=10, sticky=\"we\")\n",
    "\n",
    "# Sign up button\n",
    "signup_button = tk.Button(root, text=\"Sign Up\", command=sign_up)\n",
    "signup_button.grid(row=3, column=0, columnspan=2, padx=10, pady=10, sticky=\"we\")\n",
    "\n",
    "root.mainloop()\n"
   ]
  },
  {
   "cell_type": "code",
   "execution_count": null,
   "id": "3e9e8416-f64b-4eb0-a676-ee9b727a50f1",
   "metadata": {},
   "outputs": [],
   "source": []
  }
 ],
 "metadata": {
  "kernelspec": {
   "display_name": "Python 3 (ipykernel)",
   "language": "python",
   "name": "python3"
  },
  "language_info": {
   "codemirror_mode": {
    "name": "ipython",
    "version": 3
   },
   "file_extension": ".py",
   "mimetype": "text/x-python",
   "name": "python",
   "nbconvert_exporter": "python",
   "pygments_lexer": "ipython3",
   "version": "3.11.7"
  }
 },
 "nbformat": 4,
 "nbformat_minor": 5
}
