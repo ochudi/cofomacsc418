{
 "cells": [
  {
   "cell_type": "markdown",
   "id": "492f61cd-0189-4a10-931d-6ec4bca7e599",
   "metadata": {},
   "source": [
    "#### Practice 2: Haar Cascades"
   ]
  },
  {
   "cell_type": "code",
   "execution_count": 2,
   "id": "4aa092a2-9366-40a6-a2b0-549c20d0483c",
   "metadata": {},
   "outputs": [
    {
     "name": "stderr",
     "output_type": "stream",
     "text": [
      "[ERROR:0@3.134] global persistence.cpp:519 open Can't open file: 'haarcascade_frontalface_default.xml' in read mode\n"
     ]
    },
    {
     "ename": "error",
     "evalue": "OpenCV(4.9.0) /Users/runner/work/opencv-python/opencv-python/opencv/modules/objdetect/src/cascadedetect.cpp:1689: error: (-215:Assertion failed) !empty() in function 'detectMultiScale'\n",
     "output_type": "error",
     "traceback": [
      "\u001b[0;31m---------------------------------------------------------------------------\u001b[0m",
      "\u001b[0;31merror\u001b[0m                                     Traceback (most recent call last)",
      "Cell \u001b[0;32mIn[2], line 14\u001b[0m\n\u001b[1;32m     11\u001b[0m \u001b[38;5;66;03m# Perform face detection.\u001b[39;00m\n\u001b[1;32m     12\u001b[0m face_data \u001b[38;5;241m=\u001b[39m cv2\u001b[38;5;241m.\u001b[39mCascadeClassifier(\u001b[38;5;124m'\u001b[39m\u001b[38;5;124mhaarcascade_frontalface_default.xml\u001b[39m\u001b[38;5;124m'\u001b[39m)\n\u001b[0;32m---> 14\u001b[0m found \u001b[38;5;241m=\u001b[39m \u001b[43mface_data\u001b[49m\u001b[38;5;241;43m.\u001b[39;49m\u001b[43mdetectMultiScale\u001b[49m\u001b[43m(\u001b[49m\u001b[43mimg_gray\u001b[49m\u001b[43m,\u001b[49m\u001b[43m \u001b[49m\u001b[43mminSize\u001b[49m\u001b[43m \u001b[49m\u001b[38;5;241;43m=\u001b[39;49m\u001b[43m \u001b[49m\u001b[43m(\u001b[49m\u001b[38;5;241;43m20\u001b[39;49m\u001b[43m,\u001b[49m\u001b[43m \u001b[49m\u001b[38;5;241;43m20\u001b[39;49m\u001b[43m)\u001b[49m\u001b[43m)\u001b[49m\n\u001b[1;32m     16\u001b[0m \u001b[38;5;66;03m# Don't do anything if there is no sign\u001b[39;00m\n\u001b[1;32m     17\u001b[0m amount_found \u001b[38;5;241m=\u001b[39m \u001b[38;5;28mlen\u001b[39m(found)\n",
      "\u001b[0;31merror\u001b[0m: OpenCV(4.9.0) /Users/runner/work/opencv-python/opencv-python/opencv/modules/objdetect/src/cascadedetect.cpp:1689: error: (-215:Assertion failed) !empty() in function 'detectMultiScale'\n"
     ]
    }
   ],
   "source": [
    "import cv2\n",
    "from matplotlib import pyplot as plt\n",
    "\n",
    "# Opening image.\n",
    "img = cv2.imread(\"img/friends.jpg\")\n",
    "\n",
    "# OpenCV opens image as BRG, but we want it as RBG... we also need a grayscale version.\n",
    "img_gray = cv2.cvtColor(img, cv2.COLOR_BGR2GRAY)\n",
    "img_rgb = cv2.cvtColor(img, cv2.COLOR_BGR2RGB)\n",
    "\n",
    "# Perform face detection.\n",
    "face_data = cv2.CascadeClassifier('haarcascade_frontalface_default.xml')\n",
    "\n",
    "found = face_data.detectMultiScale(img_gray, minSize = (20, 20))\n",
    "\n",
    "# Don't do anything if there is no sign\n",
    "amount_found = len(found)\n",
    "\n",
    "if amount_found != 0:\n",
    "    # There may be more than one sign in the image\n",
    "    for (x, y, width, height) in found:\n",
    "        # We draw a green rectangle around every recognised sign\n",
    "        cv2.rectangle(img_rgb, (x, y), (x + height, y + width), (0, 255, 0), 5)\n",
    "\n",
    "# Creates the environment of the picture and shows it.\n",
    "plt.subplot(1, 1, 1)\n",
    "plt.imshow(img_rgb)\n",
    "plt.show()"
   ]
  },
  {
   "cell_type": "code",
   "execution_count": 1,
   "id": "90b304ab-4507-4a47-b0ef-865404c56695",
   "metadata": {},
   "outputs": [
    {
     "name": "stdout",
     "output_type": "stream",
     "text": [
      "4.9.0\n"
     ]
    }
   ],
   "source": [
    "import cv2\n",
    "\n",
    "print(cv2.__version__)"
   ]
  },
  {
   "cell_type": "code",
   "execution_count": null,
   "id": "fc391da6-925b-4adc-bc4e-fda2fc861c2a",
   "metadata": {},
   "outputs": [],
   "source": []
  }
 ],
 "metadata": {
  "kernelspec": {
   "display_name": "Python 3 (ipykernel)",
   "language": "python",
   "name": "python3"
  },
  "language_info": {
   "codemirror_mode": {
    "name": "ipython",
    "version": 3
   },
   "file_extension": ".py",
   "mimetype": "text/x-python",
   "name": "python",
   "nbconvert_exporter": "python",
   "pygments_lexer": "ipython3",
   "version": "3.9.6"
  }
 },
 "nbformat": 4,
 "nbformat_minor": 5
}
