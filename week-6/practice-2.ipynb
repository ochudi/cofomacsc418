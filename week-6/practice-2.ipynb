{
 "cells": [
  {
   "cell_type": "markdown",
   "id": "492f61cd-0189-4a10-931d-6ec4bca7e599",
   "metadata": {},
   "source": [
    "#### Practice 2: Haar Cascades"
   ]
  },
  {
   "cell_type": "code",
   "execution_count": 1,
   "id": "4aa092a2-9366-40a6-a2b0-549c20d0483c",
   "metadata": {},
   "outputs": [
    {
     "ename": "AttributeError",
     "evalue": "module 'cv2' has no attribute 'imread'",
     "output_type": "error",
     "traceback": [
      "\u001b[0;31m---------------------------------------------------------------------------\u001b[0m",
      "\u001b[0;31mAttributeError\u001b[0m                            Traceback (most recent call last)",
      "Cell \u001b[0;32mIn[1], line 5\u001b[0m\n\u001b[1;32m      2\u001b[0m \u001b[38;5;28;01mfrom\u001b[39;00m \u001b[38;5;21;01mmatplotlib\u001b[39;00m \u001b[38;5;28;01mimport\u001b[39;00m pyplot \u001b[38;5;28;01mas\u001b[39;00m plt\n\u001b[1;32m      4\u001b[0m \u001b[38;5;66;03m# Opening image.\u001b[39;00m\n\u001b[0;32m----> 5\u001b[0m img \u001b[38;5;241m=\u001b[39m cv2\u001b[38;5;241m.\u001b[39mimread(\u001b[38;5;124m\"\u001b[39m\u001b[38;5;124mimg/friends.jpg\u001b[39m\u001b[38;5;124m\"\u001b[39m)\n\u001b[1;32m      7\u001b[0m \u001b[38;5;66;03m# OpenCV opens image as BRG, but we want it as RBG... we also need a grayscale version.\u001b[39;00m\n\u001b[1;32m      8\u001b[0m img_gray \u001b[38;5;241m=\u001b[39m cv2\u001b[38;5;241m.\u001b[39mcvtColor(img, cv2\u001b[38;5;241m.\u001b[39mCOLOR_BGR2GRAY)\n",
      "\u001b[0;31mAttributeError\u001b[0m: module 'cv2' has no attribute 'imread'"
     ]
    }
   ],
   "source": [
    "import cv2\n",
    "from matplotlib import pyplot as plt\n",
    "\n",
    "# Opening image.\n",
    "img = cv2.imread(\"img/friends.jpg\")\n",
    "\n",
    "# OpenCV opens image as BRG, but we want it as RBG... we also need a grayscale version.\n",
    "img_gray = cv2.cvtColor(img, cv2.COLOR_BGR2GRAY)\n",
    "img_rgb = cv2.cvtColor(img, cv2.COLOR_BGR2RGB)\n",
    "\n",
    "# Perform face detection.\n",
    "face_data = cv2.CascadeClassifier('haarcascade_frontalface_default.xml')\n",
    "\n",
    "found = face_data.detectMultiScale(img_gray, minSize = (20, 20))\n",
    "\n",
    "# Don't do anything if there is no sign\n",
    "amount_found = len(found)\n",
    "\n",
    "if amount_found != 0:\n",
    "    # There may be more than one sign in the image\n",
    "    for (x, y, width, height) in found:\n",
    "        # We draw a green rectangle around every recognised sign\n",
    "        cv2.rectangle(img_rgb, (x, y), (x + height, y + width), (0, 255, 0), 5)\n",
    "\n",
    "# Creates the environment of the picture and shows it.\n",
    "plt.subplot(1, 1, 1)\n",
    "plt.imshow(img_rgb)\n",
    "plt.show()\n",
    "        \n"
   ]
  },
  {
   "cell_type": "code",
   "execution_count": null,
   "id": "90b304ab-4507-4a47-b0ef-865404c56695",
   "metadata": {},
   "outputs": [],
   "source": []
  }
 ],
 "metadata": {
  "kernelspec": {
   "display_name": "Python 3 (ipykernel)",
   "language": "python",
   "name": "python3"
  },
  "language_info": {
   "codemirror_mode": {
    "name": "ipython",
    "version": 3
   },
   "file_extension": ".py",
   "mimetype": "text/x-python",
   "name": "python",
   "nbconvert_exporter": "python",
   "pygments_lexer": "ipython3",
   "version": "3.11.7"
  }
 },
 "nbformat": 4,
 "nbformat_minor": 5
}
